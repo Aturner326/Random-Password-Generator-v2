{
 "cells": [
  {
   "cell_type": "code",
   "execution_count": 2,
   "metadata": {},
   "outputs": [
    {
     "name": "stdin",
     "output_type": "stream",
     "text": [
      ">> Enter Number of Requests:  1\n",
      ">> Enter Password Length:  16\n"
     ]
    },
    {
     "name": "stdout",
     "output_type": "stream",
     "text": [
      "\n",
      " >> WARNING: Passwords are NOT STORED, save the passowrd before closing the window <<\n",
      "\n",
      ">> Probability of guessing individual passwords: 1.2564927519658313e-25\n",
      "\n",
      "Password:\tV60FZe6mDR0PIdwj\n",
      "\n",
      "\n"
     ]
    },
    {
     "data": {
      "image/png": "[encoded data removed]",
      "text/plain": [
       "<Figure size 432x288 with 1 Axes>"
      ]
     },
     "metadata": {
      "needs_background": "light"
     },
     "output_type": "display_data"
    }
   ],
   "source": [
    "# Created 12/19/2020\n",
    "# This is a secure password generator using alphabetic and numeric characters\n",
    "# This generates crptographically secure random passwords using the secrets module\n",
    "# This also calcuates the probability of randomly guessing the password\n",
    "\n",
    "# Written by Paul A. Turner of the University of Central Florida\n",
    "# College of Sciences | Department of Statistics & Data Science\n",
    "# Bachelor of Science, Statistics\n",
    "\n",
    "import secrets\n",
    "import string\n",
    "import statistics\n",
    "import matplotlib.pyplot as plt\n",
    "\n",
    "def main():\n",
    "\n",
    "    a = input(\">> Enter Number of Requests: \")\n",
    "    b = input(\">> Enter Password Length: \")\n",
    "    c = int(a)\n",
    "    d = int(b)\n",
    "\n",
    "    # calculates the probability of the password being randomly guessed\n",
    "    # passwords consist of letters, punctuation, and digits, totaling 36 possibilities. choosing the right letter is a 1/68 chance, which exponentially grows as more characters are added to the password.\n",
    "    # formula: (1/36)^n, where n is the number of chacters in the password \n",
    "    prob = pow((1/36), d)\n",
    "\n",
    "    # prints out the probability of guessing the password randomly; due to low probability, probability is represented as Ne-n, where N is the probability, and -n is the number of decimal places unable to be represented.\n",
    "    print(\"\\n >> WARNING: Passwords are NOT STORED, save the passowrd before closing the window <<\")\n",
    "    print(\"\\n>> Probability of guessing individual passwords: \" + str(prob) + \"\\n\")\n",
    "\n",
    "    # creates the alphabet of characters that can be chosen for the password\n",
    "    alphabet = string.ascii_letters + string.digits\n",
    "\n",
    "    # Prints the output of the generated passwords\n",
    "    i = 0\n",
    "\n",
    "    while (i < c):\n",
    "        password = ''.join(secrets.choice(alphabet) for i in range (d))\n",
    "        if(i == (c-1)):\n",
    "            print(\"Password:\\t\" + password)\n",
    "        else:\n",
    "            print(str(i+1) +\":\\t\"+ password+\"\\n\")\n",
    "        i = i+1\n",
    "    \n",
    "    j = 1\n",
    "    probGuess = []\n",
    "    count = []\n",
    "    \n",
    "    print(\"\\n\")\n",
    "    \n",
    "    while(j < d+1):\n",
    "        probGuess.append(pow(1/36,j))\n",
    "        count.append(j)\n",
    "        j = j+1\n",
    "    plt.title(\"Probability of Randomly Guessing Password\\nCalculated by (1/36)^n, where n is the length of the password\")\n",
    "    plt.xlabel(\"Length of Password (by character)\")\n",
    "    plt.ylabel(\"Probability\")\n",
    "    plt.plot(count, probGuess)\n",
    "    \n",
    "\n",
    "if __name__ == \"__main__\":\n",
    "    main()"
   ]
  },
  {
   "cell_type": "code",
   "execution_count": null,
   "metadata": {},
   "outputs": [],
   "source": []
  }
 ],
 "metadata": {
  "kernelspec": {
   "display_name": "Python 3",
   "language": "python",
   "name": "python3"
  },
  "language_info": {
   "codemirror_mode": {
    "name": "ipython",
    "version": 3
   },
   "file_extension": ".py",
   "mimetype": "text/x-python",
   "name": "python",
   "nbconvert_exporter": "python",
   "pygments_lexer": "ipython3",
   "version": "3.8.5"
  }
 },
 "nbformat": 4,
 "nbformat_minor": 4
}
